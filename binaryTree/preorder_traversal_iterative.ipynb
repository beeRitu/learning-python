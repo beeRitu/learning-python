{
 "cells": [
  {
   "cell_type": "code",
   "execution_count": 1,
   "metadata": {},
   "outputs": [],
   "source": [
    "class TreeNode:\n",
    "    'defining binary tree node'\n",
    "    def __init__(self,x):\n",
    "        self.val=x\n",
    "        self.left=None\n",
    "        self.right=None"
   ]
  },
  {
   "cell_type": "code",
   "execution_count": 2,
   "metadata": {},
   "outputs": [],
   "source": [
    "class Solution:\n",
    "    def preorderTraversal(self, root: TreeNode):\n",
    "        if root.val==None:\n",
    "            return [ ]\n",
    "        stack,output=[root, ],[ ]\n",
    "        while stack != []:\n",
    "            x=stack.pop()\n",
    "            if x is not None: \n",
    "                output.append(x.val)\n",
    "                if x.right is not None:\n",
    "                    stack.append(x.right)\n",
    "                if x.left is not None:\n",
    "                    stack.append(x.left)\n",
    "        return output"
   ]
  },
  {
   "cell_type": "code",
   "execution_count": 3,
   "metadata": {},
   "outputs": [],
   "source": [
    "tree=TreeNode(1)\n",
    "tree.left=TreeNode(2)\n",
    "tree.right=TreeNode(3)\n",
    "tree.left.left=TreeNode(4)\n",
    "tree.left.right=TreeNode(5)\n",
    "tree.right.left=TreeNode(6)"
   ]
  },
  {
   "cell_type": "code",
   "execution_count": 4,
   "metadata": {},
   "outputs": [
    {
     "name": "stdout",
     "output_type": "stream",
     "text": [
      "[1, 2, 4, 5, 3, 6]\n"
     ]
    }
   ],
   "source": [
    "a=Solution()\n",
    "print(a.preorderTraversal(tree))"
   ]
  }
 ],
 "metadata": {
  "kernelspec": {
   "display_name": "Python 3",
   "language": "python",
   "name": "python3"
  },
  "language_info": {
   "codemirror_mode": {
    "name": "ipython",
    "version": 3
   },
   "file_extension": ".py",
   "mimetype": "text/x-python",
   "name": "python",
   "nbconvert_exporter": "python",
   "pygments_lexer": "ipython3",
   "version": "3.7.6"
  }
 },
 "nbformat": 4,
 "nbformat_minor": 2
}
