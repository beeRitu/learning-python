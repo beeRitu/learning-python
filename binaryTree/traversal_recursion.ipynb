{
 "cells": [
  {
   "cell_type": "code",
   "execution_count": null,
   "metadata": {},
   "outputs": [],
   "source": [
    "class node:\n",
    "    def __init__(self,data):\n",
    "        self.left=None\n",
    "        self.right=None\n",
    "        self.data=data"
   ]
  },
  {
   "cell_type": "code",
   "execution_count": null,
   "metadata": {},
   "outputs": [],
   "source": [
    "def inOrder(root):\n",
    "    if root:\n",
    "        inOrder(root.left)\n",
    "        print(root.data)\n",
    "        inOrder(root.right)"
   ]
  },
  {
   "cell_type": "code",
   "execution_count": null,
   "metadata": {},
   "outputs": [],
   "source": [
    "def preOrder(root):\n",
    "    if root:\n",
    "        print(root.data)\n",
    "        preOrder(root.left)\n",
    "        preOrder(root.right)"
   ]
  },
  {
   "cell_type": "code",
   "execution_count": null,
   "metadata": {},
   "outputs": [],
   "source": [
    "def postOrder(root):\n",
    "    if root:\n",
    "        #print(\"root\",root)\n",
    "        postOrder(root.left)\n",
    "        postOrder(root.right)\n",
    "        print(root.data)\n",
    "    return "
   ]
  },
  {
   "cell_type": "code",
   "execution_count": null,
   "metadata": {},
   "outputs": [],
   "source": [
    "#making the tree\n",
    "root=node(1)\n",
    "root.left=node(2)\n",
    "root.right=node(3)\n",
    "root.left.left=node(4)\n",
    "root.left.right=node(5)\n",
    "root.right.left=node(6)"
   ]
  },
  {
   "cell_type": "code",
   "execution_count": null,
   "metadata": {},
   "outputs": [],
   "source": [
    "#prints None in the end as functions have no return value\n",
    "print(\"inorder\")\n",
    "print(inOrder(root))\n",
    "print(\"preorder\")\n",
    "print(preOrder(root))\n",
    "print(\"postOrder\")\n",
    "print(postOrder(root))"
   ]
  },
  {
   "cell_type": "code",
   "execution_count": null,
   "metadata": {},
   "outputs": [],
   "source": []
  }
 ],
 "metadata": {
  "kernelspec": {
   "display_name": "Python 3",
   "language": "python",
   "name": "python3"
  },
  "language_info": {
   "codemirror_mode": {
    "name": "ipython",
    "version": 3
   },
   "file_extension": ".py",
   "mimetype": "text/x-python",
   "name": "python",
   "nbconvert_exporter": "python",
   "pygments_lexer": "ipython3",
   "version": "3.7.6"
  }
 },
 "nbformat": 4,
 "nbformat_minor": 2
}
